{
 "cells": [
  {
   "cell_type": "code",
   "execution_count": null,
   "id": "d0c94c03",
   "metadata": {},
   "outputs": [],
   "source": [
    "import sqlite3\n",
    "import pandas as pd"
   ]
  },
  {
   "cell_type": "code",
   "execution_count": null,
   "id": "ad9f31dd",
   "metadata": {},
   "outputs": [],
   "source": [
    "#connect to the SQLite database\n",
    "conn = sqlite3.connect('db_chat.db')"
   ]
  },
  {
   "cell_type": "code",
   "execution_count": null,
   "id": "b9fa3e73",
   "metadata": {},
   "outputs": [],
   "source": [
    "# Create a cursor object\n",
    "cursor = conn.cursor()"
   ]
  },
  {
   "cell_type": "code",
   "execution_count": null,
   "id": "284bbd21",
   "metadata": {},
   "outputs": [],
   "source": [
    "#cria uma instrucao SQl\n",
    "query = 'SELECT * From propinas'"
   ]
  },
  {
   "cell_type": "code",
   "execution_count": null,
   "id": "4ef86c93",
   "metadata": {},
   "outputs": [],
   "source": [
    "dados = cursor.fetchall()"
   ]
  },
  {
   "cell_type": "code",
   "execution_count": null,
   "id": "629afe15",
   "metadata": {},
   "outputs": [],
   "source": [
    "dados"
   ]
  },
  {
   "cell_type": "code",
   "execution_count": null,
   "id": "8fb01d62",
   "metadata": {},
   "outputs": [],
   "source": [
    "#os dados em sql sao retornados em uma lista de tuplas\n",
    "#por dificil trabalhar com listas de tuplas no python\n",
    "#entao vamos usar o pandas para transformar em um dataframe\n",
    "df = pd.DataFrame(dados, columns=['id', 'ano', 'valor'])"
   ]
  },
  {
   "cell_type": "code",
   "execution_count": null,
   "id": "0d85d22e",
   "metadata": {},
   "outputs": [],
   "source": [
    "df.head()"
   ]
  },
  {
   "cell_type": "code",
   "execution_count": null,
   "id": "ee0701c4",
   "metadata": {},
   "outputs": [],
   "source": [
    "#fechar a conexao e o cursor\n",
    "cursor.close()\n",
    "conn.close()"
   ]
  },
  {
   "cell_type": "code",
   "execution_count": null,
   "id": "d1d15807",
   "metadata": {},
   "outputs": [],
   "source": [
    "#criando a media de unidades vendidas por produto\n",
    "#a cluna a agrupar vai entre () e o valor a ser agrupado entre ([])\n",
    "media_unidades_valor = df.groupby('ano')['valor'].mean()"
   ]
  },
  {
   "cell_type": "code",
   "execution_count": null,
   "id": "b6928ed7",
   "metadata": {},
   "outputs": [],
   "source": [
    "#para visualizar o resultado\n",
    "print(media_unidades_valor.head(10)) #para ver todo resultado e so remover o head(10)"
   ]
  }
 ],
 "metadata": {
  "kernelspec": {
   "display_name": "base",
   "language": "python",
   "name": "python3"
  },
  "language_info": {
   "codemirror_mode": {
    "name": "ipython",
    "version": 3
   },
   "file_extension": ".py",
   "mimetype": "text/x-python",
   "name": "python",
   "nbconvert_exporter": "python",
   "pygments_lexer": "ipython3",
   "version": "3.12.4"
  }
 },
 "nbformat": 4,
 "nbformat_minor": 5
}
