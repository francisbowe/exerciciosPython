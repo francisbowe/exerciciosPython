{
 "cells": [
  {
   "cell_type": "code",
   "execution_count": 1,
   "id": "d0c94c03",
   "metadata": {},
   "outputs": [],
   "source": [
    "import sqlite3\n",
    "import pandas as pd"
   ]
  },
  {
   "cell_type": "code",
   "execution_count": 2,
   "id": "ad9f31dd",
   "metadata": {},
   "outputs": [],
   "source": [
    "#connect to the SQLite database\n",
    "conn = sqlite3.connect('db_chat.db')"
   ]
  },
  {
   "cell_type": "code",
   "execution_count": 3,
   "id": "b9fa3e73",
   "metadata": {},
   "outputs": [],
   "source": [
    "# Create a cursor object\n",
    "cursor = conn.cursor()"
   ]
  }
 ],
 "metadata": {
  "kernelspec": {
   "display_name": "base",
   "language": "python",
   "name": "python3"
  },
  "language_info": {
   "codemirror_mode": {
    "name": "ipython",
    "version": 3
   },
   "file_extension": ".py",
   "mimetype": "text/x-python",
   "name": "python",
   "nbconvert_exporter": "python",
   "pygments_lexer": "ipython3",
   "version": "3.12.4"
  }
 },
 "nbformat": 4,
 "nbformat_minor": 5
}
