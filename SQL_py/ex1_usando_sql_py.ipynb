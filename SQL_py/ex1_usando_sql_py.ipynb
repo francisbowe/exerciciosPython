{
 "cells": [
  {
   "cell_type": "code",
   "execution_count": null,
   "id": "67a6ed98",
   "metadata": {},
   "outputs": [],
   "source": [
    "import sqlite3\n",
    "import pandas as pd"
   ]
  },
  {
   "cell_type": "code",
   "execution_count": null,
   "id": "4abbbc66",
   "metadata": {},
   "outputs": [],
   "source": [
    "con = sqlite3.connect('db_chat.db')\n",
    "#cursor serve para percorrer os dados na BD\n",
    "cursor = con.cursor()"
   ]
  },
  {
   "cell_type": "code",
   "execution_count": null,
   "id": "c3ffb8f3",
   "metadata": {},
   "outputs": [],
   "source": [
    "#Query para extrair os nomes da coluna na BD\n",
    "sqlQuery = \"\"\"SELECT name FROM sqlite_master WHERE type='table';\"\"\""
   ]
  },
  {
   "cell_type": "code",
   "execution_count": null,
   "id": "407c53b6",
   "metadata": {},
   "outputs": [],
   "source": [
    "cursor.execute(sqlQuery)"
   ]
  },
  {
   "cell_type": "code",
   "execution_count": null,
   "id": "e50e1ebf",
   "metadata": {},
   "outputs": [],
   "source": [
    "print(cursor.fetchall())"
   ]
  }
 ],
 "metadata": {
  "kernelspec": {
   "display_name": "base",
   "language": "python",
   "name": "python3"
  },
  "language_info": {
   "codemirror_mode": {
    "name": "ipython",
    "version": 3
   },
   "file_extension": ".py",
   "mimetype": "text/x-python",
   "name": "python",
   "nbconvert_exporter": "python",
   "pygments_lexer": "ipython3",
   "version": "3.12.4"
  }
 },
 "nbformat": 4,
 "nbformat_minor": 5
}
