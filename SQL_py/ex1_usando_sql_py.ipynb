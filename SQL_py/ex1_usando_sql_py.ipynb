{
 "cells": [
  {
   "cell_type": "code",
   "execution_count": null,
   "id": "67a6ed98",
   "metadata": {},
   "outputs": [],
   "source": [
    "import sqlite3\n",
    "import pandas as pd"
   ]
  },
  {
   "cell_type": "code",
   "execution_count": null,
   "id": "4abbbc66",
   "metadata": {},
   "outputs": [],
   "source": [
    "con = sqlite3.connect('db_chat.db')\n",
    "#cursor serve para percorrer os dados na BD\n",
    "cursor = con.cursor()"
   ]
  },
  {
   "cell_type": "code",
   "execution_count": null,
   "id": "c3ffb8f3",
   "metadata": {},
   "outputs": [],
   "source": [
    "#Query para extrair os nomes da coluna na BD\n",
    "sqlQuery = \"\"\"SELECT name FROM sqlite_master WHERE type='table';\"\"\""
   ]
  },
  {
   "cell_type": "code",
   "execution_count": null,
   "id": "407c53b6",
   "metadata": {},
   "outputs": [],
   "source": [
    "cursor.execute(sqlQuery)"
   ]
  },
  {
   "cell_type": "code",
   "execution_count": null,
   "id": "e50e1ebf",
   "metadata": {},
   "outputs": [],
   "source": [
    "print(cursor.fetchall())"
   ]
  },
  {
   "cell_type": "code",
   "execution_count": null,
   "id": "46ce7096",
   "metadata": {},
   "outputs": [],
   "source": [
    "#criando uma query para extrair os dados da tabela\n",
    "query1 = 'SELECT * FROM propinas'\n",
    "cursor.execute(query1)"
   ]
  },
  {
   "cell_type": "code",
   "execution_count": null,
   "id": "10d56aba",
   "metadata": {},
   "outputs": [],
   "source": [
    "#list comrehension para criar uma lista com os nomes das colunas\n",
    "name_columns = [description[0] for description in cursor.description]"
   ]
  },
  {
   "cell_type": "code",
   "execution_count": null,
   "id": "00112e32",
   "metadata": {},
   "outputs": [],
   "source": [
    "print(name_columns)"
   ]
  },
  {
   "cell_type": "code",
   "execution_count": null,
   "id": "dea00547",
   "metadata": {},
   "outputs": [],
   "source": [
    "#cursor.fetchall() retorna todos os dados da tabela\n",
    "data = cursor.fetchall()\n",
    "data"
   ]
  },
  {
   "cell_type": "code",
   "execution_count": null,
   "id": "242081cd",
   "metadata": {},
   "outputs": [],
   "source": [
    "#instrucao sql para calcular a media\n",
    "query2 = 'SELECT AVG(valor) FROM propinas'\n",
    "cursor.execute(query2)"
   ]
  },
  {
   "cell_type": "code",
   "execution_count": null,
   "id": "7a871891",
   "metadata": {},
   "outputs": [],
   "source": [
    "#extrai a media\n",
    "print(cursor.fetchall())"
   ]
  },
  {
   "cell_type": "code",
   "execution_count": null,
   "id": "18263d40",
   "metadata": {},
   "outputs": [],
   "source": [
    "#cria uma instrucao sql para calcular a media de unidades vendidas por produto\n",
    "query3 = 'SELECT ano, AVG(valor) FROM propinas GROUP BY ano'"
   ]
  },
  {
   "cell_type": "code",
   "execution_count": null,
   "id": "52d24152",
   "metadata": {},
   "outputs": [],
   "source": [
    "cursor.execute(query3)"
   ]
  },
  {
   "cell_type": "code",
   "execution_count": null,
   "id": "8cf25e46",
   "metadata": {},
   "outputs": [],
   "source": [
    "#visualiza os dados\n",
    "cursor.fetchall()"
   ]
  },
  {
   "cell_type": "code",
   "execution_count": null,
   "id": "4f2ebaf5",
   "metadata": {},
   "outputs": [],
   "source": [
    "#cria uma instrucao sql para calcular a media de forma agrupada\n",
    "#quando valor unitario for maior que 199\n",
    "query4 = \"\"\"\" SELECT ano, AVG(valor) FROM propinas WHERE valor > 199\n",
    "GROUP BY ano\"\"\""
   ]
  },
  {
   "cell_type": "code",
   "execution_count": null,
   "id": "07a4deae",
   "metadata": {},
   "outputs": [],
   "source": [
    "cursor.execute(query4)"
   ]
  },
  {
   "cell_type": "code",
   "execution_count": null,
   "id": "38301f19",
   "metadata": {},
   "outputs": [],
   "source": [
    "print(cursor.fetchall())"
   ]
  },
  {
   "cell_type": "code",
   "execution_count": null,
   "id": "4349b2ad",
   "metadata": {},
   "outputs": [],
   "source": [
    "#cria uma instrucao SQL para calcular a media de unidades vendidas por produto\n",
    "#quando o valor unitario for maior que 199, mas somente se a media de uindades vendidas for maior que 10\n",
    "query5 =\"\"\" SELECT ano, AVG(valor) FROM propinas WHERE valor > 199\n",
    "GROUP BY ano HAVING AVG(valor) > 10\"\"\""
   ]
  },
  {
   "cell_type": "code",
   "execution_count": null,
   "id": "9c9f9803",
   "metadata": {},
   "outputs": [],
   "source": [
    "cursor.execute(query5)"
   ]
  },
  {
   "cell_type": "code",
   "execution_count": null,
   "id": "3948b560",
   "metadata": {},
   "outputs": [],
   "source": [
    "print(cursor.fetchall())"
   ]
  },
  {
   "cell_type": "code",
   "execution_count": null,
   "id": "8f106eff",
   "metadata": {},
   "outputs": [],
   "source": [
    "cursor.close()\n",
    "con.close()"
   ]
  }
 ],
 "metadata": {
  "kernelspec": {
   "display_name": "base",
   "language": "python",
   "name": "python3"
  },
  "language_info": {
   "codemirror_mode": {
    "name": "ipython",
    "version": 3
   },
   "file_extension": ".py",
   "mimetype": "text/x-python",
   "name": "python",
   "nbconvert_exporter": "python",
   "pygments_lexer": "ipython3",
   "version": "3.12.4"
  }
 },
 "nbformat": 4,
 "nbformat_minor": 5
}
