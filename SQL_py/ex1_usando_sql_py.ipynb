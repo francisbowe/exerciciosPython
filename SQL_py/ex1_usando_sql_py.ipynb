{
 "cells": [
  {
   "cell_type": "code",
   "execution_count": 123,
   "id": "67a6ed98",
   "metadata": {},
   "outputs": [],
   "source": [
    "import sqlite3\n",
    "import pandas as pd"
   ]
  },
  {
   "cell_type": "code",
   "execution_count": 124,
   "id": "4abbbc66",
   "metadata": {},
   "outputs": [],
   "source": [
    "con = sqlite3.connect('db_chat.db')\n",
    "#cursor serve para percorrer os dados na BD\n",
    "cursor = con.cursor()"
   ]
  },
  {
   "cell_type": "code",
   "execution_count": 125,
   "id": "c3ffb8f3",
   "metadata": {},
   "outputs": [],
   "source": [
    "#Query para extrair os nomes da coluna na BD\n",
    "sqlQuery = \"\"\"SELECT name FROM sqlite_master WHERE type='table';\"\"\""
   ]
  },
  {
   "cell_type": "code",
   "execution_count": 126,
   "id": "407c53b6",
   "metadata": {},
   "outputs": [
    {
     "data": {
      "text/plain": [
       "<sqlite3.Cursor at 0x15434eec0>"
      ]
     },
     "execution_count": 126,
     "metadata": {},
     "output_type": "execute_result"
    }
   ],
   "source": [
    "cursor.execute(sqlQuery)"
   ]
  },
  {
   "cell_type": "code",
   "execution_count": 127,
   "id": "e50e1ebf",
   "metadata": {},
   "outputs": [
    {
     "name": "stdout",
     "output_type": "stream",
     "text": [
      "[('contactos',), ('sqlite_sequence',), ('contas',), ('cursos',), ('documentos',), ('menus',), ('propinas',), ('usuarios',)]\n"
     ]
    }
   ],
   "source": [
    "print(cursor.fetchall())"
   ]
  },
  {
   "cell_type": "code",
   "execution_count": 128,
   "id": "46ce7096",
   "metadata": {},
   "outputs": [
    {
     "data": {
      "text/plain": [
       "<sqlite3.Cursor at 0x15434eec0>"
      ]
     },
     "execution_count": 128,
     "metadata": {},
     "output_type": "execute_result"
    }
   ],
   "source": [
    "#criando uma query para extrair os dados da tabela\n",
    "query1 = 'SELECT * FROM propinas'\n",
    "cursor.execute(query1)"
   ]
  },
  {
   "cell_type": "code",
   "execution_count": 129,
   "id": "10d56aba",
   "metadata": {},
   "outputs": [],
   "source": [
    "#list comrehension para criar uma lista com os nomes das colunas\n",
    "name_columns = [description[0] for description in cursor.description]"
   ]
  },
  {
   "cell_type": "code",
   "execution_count": 130,
   "id": "00112e32",
   "metadata": {},
   "outputs": [
    {
     "name": "stdout",
     "output_type": "stream",
     "text": [
      "['id', 'ano', 'valor']\n"
     ]
    }
   ],
   "source": [
    "print(name_columns)"
   ]
  },
  {
   "cell_type": "code",
   "execution_count": 131,
   "id": "dea00547",
   "metadata": {},
   "outputs": [
    {
     "data": {
      "text/plain": [
       "[(1, '2023', 1000.0)]"
      ]
     },
     "execution_count": 131,
     "metadata": {},
     "output_type": "execute_result"
    }
   ],
   "source": [
    "#cursor.fetchall() retorna todos os dados da tabela\n",
    "data = cursor.fetchall()\n",
    "data"
   ]
  },
  {
   "cell_type": "code",
   "execution_count": 132,
   "id": "242081cd",
   "metadata": {},
   "outputs": [
    {
     "data": {
      "text/plain": [
       "<sqlite3.Cursor at 0x15434eec0>"
      ]
     },
     "execution_count": 132,
     "metadata": {},
     "output_type": "execute_result"
    }
   ],
   "source": [
    "#instrucao sql para calcular a media\n",
    "query2 = 'SELECT AVG(valor) FROM propinas'\n",
    "cursor.execute(query2)"
   ]
  },
  {
   "cell_type": "code",
   "execution_count": 133,
   "id": "7a871891",
   "metadata": {},
   "outputs": [
    {
     "name": "stdout",
     "output_type": "stream",
     "text": [
      "[(1000.0,)]\n"
     ]
    }
   ],
   "source": [
    "#extrai a media\n",
    "print(cursor.fetchall())"
   ]
  },
  {
   "cell_type": "code",
   "execution_count": 139,
   "id": "18263d40",
   "metadata": {},
   "outputs": [],
   "source": [
    "#cria uma instrucao sql para calcular a media de unidades vendidas por produto\n",
    "query3 = 'SELECT ano, AVG(valor) FROM propinas GROUP BY ano'"
   ]
  },
  {
   "cell_type": "code",
   "execution_count": 140,
   "id": "52d24152",
   "metadata": {},
   "outputs": [
    {
     "data": {
      "text/plain": [
       "<sqlite3.Cursor at 0x15434eec0>"
      ]
     },
     "execution_count": 140,
     "metadata": {},
     "output_type": "execute_result"
    }
   ],
   "source": [
    "cursor.execute(query3)"
   ]
  },
  {
   "cell_type": "code",
   "execution_count": 141,
   "id": "8cf25e46",
   "metadata": {},
   "outputs": [
    {
     "data": {
      "text/plain": [
       "[('2023', 1000.0)]"
      ]
     },
     "execution_count": 141,
     "metadata": {},
     "output_type": "execute_result"
    }
   ],
   "source": [
    "#visualiza os dados\n",
    "cursor.fetchall()"
   ]
  },
  {
   "cell_type": "code",
   "execution_count": 143,
   "id": "4f2ebaf5",
   "metadata": {},
   "outputs": [],
   "source": [
    "#cria uma instrucao sql para calcular a media de forma agrupada\n",
    "#quando valor unitario for maior que 199\n",
    "query4 = \"\"\"\" SELECT ano AVG(valor) FROM propinas WHERE ano > 199\n",
    "GROUP BY valores\"\"\""
   ]
  }
 ],
 "metadata": {
  "kernelspec": {
   "display_name": "base",
   "language": "python",
   "name": "python3"
  },
  "language_info": {
   "codemirror_mode": {
    "name": "ipython",
    "version": 3
   },
   "file_extension": ".py",
   "mimetype": "text/x-python",
   "name": "python",
   "nbconvert_exporter": "python",
   "pygments_lexer": "ipython3",
   "version": "3.12.4"
  }
 },
 "nbformat": 4,
 "nbformat_minor": 5
}
