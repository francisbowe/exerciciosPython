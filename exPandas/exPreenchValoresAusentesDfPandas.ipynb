{
 "cells": [
  {
   "cell_type": "code",
   "execution_count": null,
   "metadata": {},
   "outputs": [],
   "source": [
    "#importando as bibliotecas\n",
    "import os\n",
    "import pandas as pd\n",
    "import numpy as np"
   ]
  },
  {
   "cell_type": "code",
   "execution_count": null,
   "metadata": {},
   "outputs": [],
   "source": [
    "#impotano um dataset\n",
    "# Verificando se o arquivo existe na pasta raiz\n",
    "if os.path.exists(os.path.join('..', 'economic-indicators.csv')):\n",
    "  dados_df = pd.read_csv(os.path.join('..', 'economic-indicators.csv'))\n",
    "else:\n",
    "  print(\"Arquivo 'economic-indicators.csv' não encontrado na pasta raiz.\")"
   ]
  },
  {
   "cell_type": "code",
   "execution_count": null,
   "metadata": {},
   "outputs": [],
   "source": [
    "dados_df.head(5)"
   ]
  },
  {
   "cell_type": "code",
   "execution_count": null,
   "metadata": {},
   "outputs": [],
   "source": [
    "#verfinacando se tem valores ausantes\n",
    "dados_df.isna().sum()"
   ]
  },
  {
   "cell_type": "code",
   "execution_count": null,
   "metadata": {},
   "outputs": [],
   "source": [
    "#Estraindo a moda de uma caluna, essa função retorna o valor que mais se repete\n",
    "#para o nosso ex nao temos valores ausantes e se tivessmos usariamos a função fillna para preencher os valores ausantes\n",
    "moda =dados_df['logan_passengers'].value_counts().idxmax()\n",
    "print(moda)"
   ]
  },
  {
   "cell_type": "code",
   "execution_count": null,
   "metadata": {},
   "outputs": [],
   "source": [
    "#preenchendo os valores ausantes\n",
    "#dados_df['logan_passengers'].fillna(value= moda, inplace=True)"
   ]
  },
  {
   "cell_type": "code",
   "execution_count": null,
   "metadata": {},
   "outputs": [],
   "source": [
    "#Cosulta dados com Pandas \"uma Query\"\n",
    "#verificar os valores de uma coluna\n",
    "dados_df['pipeline_const_jobs'].describe()"
   ]
  },
  {
   "cell_type": "code",
   "execution_count": null,
   "metadata": {},
   "outputs": [],
   "source": [
    "#Gerando um dataframe com dados filtrados no intervalo de 229 a 10000\n",
    "dados_df1 = dados_df.query('300 < pipeline_const_jobs > 1000')"
   ]
  },
  {
   "cell_type": "code",
   "execution_count": null,
   "metadata": {},
   "outputs": [],
   "source": [
    "dados_df1['pipeline_const_jobs'].describe()"
   ]
  },
  {
   "cell_type": "code",
   "execution_count": null,
   "metadata": {},
   "outputs": [],
   "source": [
    "dados_df2 = dados_df1.query('pipeline_const_jobs > 1796')\n",
    "dados_df2.head()"
   ]
  },
  {
   "cell_type": "code",
   "execution_count": null,
   "metadata": {},
   "outputs": [],
   "source": [
    "#Shape retorna o numero de linhas e colunas\n",
    "dados_df.shape"
   ]
  },
  {
   "cell_type": "code",
   "execution_count": null,
   "metadata": {},
   "outputs": [],
   "source": [
    "#Aplicando um filtro com metodo isin ele verifica se um ou mais valores estão presentes na coluna\n",
    "dados_df[dados_df['Month'].isin([1, 10, 9])]#.shape"
   ]
  },
  {
   "cell_type": "code",
   "execution_count": null,
   "metadata": {},
   "outputs": [],
   "source": [
    "dados_df[dados_df['Month'].isin([1, 10, 9])][:10]"
   ]
  },
  {
   "cell_type": "code",
   "execution_count": null,
   "metadata": {},
   "outputs": [],
   "source": [
    "#Filtrandos valores da coluna com operadores logicos\n",
    "#dados_df[(dados_df.coluna == 'valor da coluna') & (dados_df.coluna == 'valor da coluna')].head()tras os primeiros registros AND\n",
    "#dados_df[(dados_df.coluna == 'valor da coluna') | (dados_df.coluna == 'valor da coluna')].tail()tras os ultimos resultados OR\n",
    "#dados_df[(dados_df.coluna == 'valor da coluna') & (dados_df.coluna != 'valor da coluna') & (dados_df.coluna != 'valor da coluna')].simple()tras os dados forma aletoria AND\n",
    "#dados_df[(dados_df.coluna != 'valor da coluna') | (dados_df.coluna != 'valor da coluna') | (dados_df.coluna == 'valor da coluna')] OR"
   ]
  },
  {
   "cell_type": "code",
   "execution_count": null,
   "metadata": {},
   "outputs": [],
   "source": []
  }
 ],
 "metadata": {
  "kernelspec": {
   "display_name": "base",
   "language": "python",
   "name": "python3"
  },
  "language_info": {
   "codemirror_mode": {
    "name": "ipython",
    "version": 3
   },
   "file_extension": ".py",
   "mimetype": "text/x-python",
   "name": "python",
   "nbconvert_exporter": "python",
   "pygments_lexer": "ipython3",
   "version": "3.12.4"
  }
 },
 "nbformat": 4,
 "nbformat_minor": 2
}
