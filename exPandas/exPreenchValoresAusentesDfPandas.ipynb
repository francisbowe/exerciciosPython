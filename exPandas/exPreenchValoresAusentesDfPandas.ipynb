{
 "cells": [
  {
   "cell_type": "code",
   "execution_count": null,
   "metadata": {},
   "outputs": [],
   "source": [
    "#importando as bibliotecas\n",
    "import os\n",
    "import pandas as pd\n",
    "import numpy as np"
   ]
  },
  {
   "cell_type": "code",
   "execution_count": null,
   "metadata": {},
   "outputs": [],
   "source": [
    "#impotano um dataset\n",
    "# Verificando se o arquivo existe na pasta raiz\n",
    "if os.path.exists(os.path.join('..', 'economic-indicators.csv')):\n",
    "  dados_df = pd.read_csv(os.path.join('..', 'economic-indicators.csv'))\n",
    "else:\n",
    "  print(\"Arquivo 'economic-indicators.csv' não encontrado na pasta raiz.\")"
   ]
  },
  {
   "cell_type": "code",
   "execution_count": 46,
   "metadata": {},
   "outputs": [
    {
     "data": {
      "text/html": [
       "<div>\n",
       "<style scoped>\n",
       "    .dataframe tbody tr th:only-of-type {\n",
       "        vertical-align: middle;\n",
       "    }\n",
       "\n",
       "    .dataframe tbody tr th {\n",
       "        vertical-align: top;\n",
       "    }\n",
       "\n",
       "    .dataframe thead th {\n",
       "        text-align: right;\n",
       "    }\n",
       "</style>\n",
       "<table border=\"1\" class=\"dataframe\">\n",
       "  <thead>\n",
       "    <tr style=\"text-align: right;\">\n",
       "      <th></th>\n",
       "      <th>Year</th>\n",
       "      <th>Month</th>\n",
       "      <th>logan_passengers</th>\n",
       "      <th>logan_intl_flights</th>\n",
       "      <th>hotel_occup_rate</th>\n",
       "      <th>hotel_avg_daily_rate</th>\n",
       "      <th>total_jobs</th>\n",
       "      <th>unemp_rate</th>\n",
       "      <th>labor_force_part_rate</th>\n",
       "      <th>pipeline_unit</th>\n",
       "      <th>pipeline_total_dev_cost</th>\n",
       "      <th>pipeline_sqft</th>\n",
       "      <th>pipeline_const_jobs</th>\n",
       "      <th>foreclosure_pet</th>\n",
       "      <th>foreclosure_deeds</th>\n",
       "      <th>med_housing_price</th>\n",
       "      <th>housing_sales_vol</th>\n",
       "      <th>new_housing_const_permits</th>\n",
       "      <th>new-affordable_housing_permits</th>\n",
       "    </tr>\n",
       "  </thead>\n",
       "  <tbody>\n",
       "    <tr>\n",
       "      <th>0</th>\n",
       "      <td>2013</td>\n",
       "      <td>1</td>\n",
       "      <td>2019662</td>\n",
       "      <td>2986</td>\n",
       "      <td>0.572</td>\n",
       "      <td>158.93</td>\n",
       "      <td>322957</td>\n",
       "      <td>0.066</td>\n",
       "      <td>0.631</td>\n",
       "      <td>329</td>\n",
       "      <td>80000000.0</td>\n",
       "      <td>313107</td>\n",
       "      <td>228</td>\n",
       "      <td>44</td>\n",
       "      <td>11</td>\n",
       "      <td>380000</td>\n",
       "      <td>405</td>\n",
       "      <td>534</td>\n",
       "      <td>134</td>\n",
       "    </tr>\n",
       "    <tr>\n",
       "      <th>1</th>\n",
       "      <td>2013</td>\n",
       "      <td>2</td>\n",
       "      <td>1878731</td>\n",
       "      <td>2587</td>\n",
       "      <td>0.645</td>\n",
       "      <td>165.50</td>\n",
       "      <td>324295</td>\n",
       "      <td>0.060</td>\n",
       "      <td>0.629</td>\n",
       "      <td>557</td>\n",
       "      <td>360700000.0</td>\n",
       "      <td>885681</td>\n",
       "      <td>809</td>\n",
       "      <td>50</td>\n",
       "      <td>10</td>\n",
       "      <td>359500</td>\n",
       "      <td>332</td>\n",
       "      <td>196</td>\n",
       "      <td>13</td>\n",
       "    </tr>\n",
       "    <tr>\n",
       "      <th>2</th>\n",
       "      <td>2013</td>\n",
       "      <td>3</td>\n",
       "      <td>2469155</td>\n",
       "      <td>3250</td>\n",
       "      <td>0.819</td>\n",
       "      <td>187.45</td>\n",
       "      <td>325597</td>\n",
       "      <td>0.058</td>\n",
       "      <td>0.631</td>\n",
       "      <td>127</td>\n",
       "      <td>10550000.0</td>\n",
       "      <td>106386</td>\n",
       "      <td>128</td>\n",
       "      <td>6</td>\n",
       "      <td>6</td>\n",
       "      <td>400000</td>\n",
       "      <td>479</td>\n",
       "      <td>12</td>\n",
       "      <td>0</td>\n",
       "    </tr>\n",
       "    <tr>\n",
       "      <th>3</th>\n",
       "      <td>2013</td>\n",
       "      <td>4</td>\n",
       "      <td>2551246</td>\n",
       "      <td>3408</td>\n",
       "      <td>0.855</td>\n",
       "      <td>233.44</td>\n",
       "      <td>326101</td>\n",
       "      <td>0.058</td>\n",
       "      <td>0.632</td>\n",
       "      <td>325</td>\n",
       "      <td>150000000.0</td>\n",
       "      <td>350000</td>\n",
       "      <td>254</td>\n",
       "      <td>14</td>\n",
       "      <td>8</td>\n",
       "      <td>403000</td>\n",
       "      <td>558</td>\n",
       "      <td>91</td>\n",
       "      <td>24</td>\n",
       "    </tr>\n",
       "    <tr>\n",
       "      <th>4</th>\n",
       "      <td>2013</td>\n",
       "      <td>5</td>\n",
       "      <td>2676291</td>\n",
       "      <td>3240</td>\n",
       "      <td>0.858</td>\n",
       "      <td>237.89</td>\n",
       "      <td>325160</td>\n",
       "      <td>0.063</td>\n",
       "      <td>0.633</td>\n",
       "      <td>122</td>\n",
       "      <td>222200000.0</td>\n",
       "      <td>457374</td>\n",
       "      <td>402</td>\n",
       "      <td>12</td>\n",
       "      <td>4</td>\n",
       "      <td>425500</td>\n",
       "      <td>809</td>\n",
       "      <td>63</td>\n",
       "      <td>0</td>\n",
       "    </tr>\n",
       "  </tbody>\n",
       "</table>\n",
       "</div>"
      ],
      "text/plain": [
       "   Year  Month  logan_passengers  logan_intl_flights  hotel_occup_rate  \\\n",
       "0  2013      1           2019662                2986             0.572   \n",
       "1  2013      2           1878731                2587             0.645   \n",
       "2  2013      3           2469155                3250             0.819   \n",
       "3  2013      4           2551246                3408             0.855   \n",
       "4  2013      5           2676291                3240             0.858   \n",
       "\n",
       "   hotel_avg_daily_rate  total_jobs  unemp_rate  labor_force_part_rate  \\\n",
       "0                158.93      322957       0.066                  0.631   \n",
       "1                165.50      324295       0.060                  0.629   \n",
       "2                187.45      325597       0.058                  0.631   \n",
       "3                233.44      326101       0.058                  0.632   \n",
       "4                237.89      325160       0.063                  0.633   \n",
       "\n",
       "   pipeline_unit  pipeline_total_dev_cost  pipeline_sqft  pipeline_const_jobs  \\\n",
       "0            329               80000000.0         313107                  228   \n",
       "1            557              360700000.0         885681                  809   \n",
       "2            127               10550000.0         106386                  128   \n",
       "3            325              150000000.0         350000                  254   \n",
       "4            122              222200000.0         457374                  402   \n",
       "\n",
       "   foreclosure_pet  foreclosure_deeds  med_housing_price  housing_sales_vol  \\\n",
       "0               44                 11             380000                405   \n",
       "1               50                 10             359500                332   \n",
       "2                6                  6             400000                479   \n",
       "3               14                  8             403000                558   \n",
       "4               12                  4             425500                809   \n",
       "\n",
       "   new_housing_const_permits  new-affordable_housing_permits  \n",
       "0                        534                             134  \n",
       "1                        196                              13  \n",
       "2                         12                               0  \n",
       "3                         91                              24  \n",
       "4                         63                               0  "
      ]
     },
     "execution_count": 46,
     "metadata": {},
     "output_type": "execute_result"
    }
   ],
   "source": [
    "dados_df.head(5)"
   ]
  },
  {
   "cell_type": "code",
   "execution_count": null,
   "metadata": {},
   "outputs": [],
   "source": [
    "#verfinacando se tem valores ausantes\n",
    "dados_df.isna().sum()"
   ]
  },
  {
   "cell_type": "code",
   "execution_count": null,
   "metadata": {},
   "outputs": [],
   "source": [
    "#Estraindo a moda de uma caluna, essa função retorna o valor que mais se repete\n",
    "#para o nosso ex nao temos valores ausantes e se tivessmos usariamos a função fillna para preencher os valores ausantes\n",
    "moda =dados_df['logan_passengers'].value_counts().idxmax()\n",
    "print(moda)"
   ]
  },
  {
   "cell_type": "code",
   "execution_count": null,
   "metadata": {},
   "outputs": [],
   "source": [
    "#preenchendo os valores ausantes\n",
    "#dados_df['logan_passengers'].fillna(value= moda, inplace=True)"
   ]
  },
  {
   "cell_type": "code",
   "execution_count": null,
   "metadata": {},
   "outputs": [],
   "source": [
    "#Cosulta dados com Pandas \"uma Query\"\n",
    "#verificar os valores de uma coluna\n",
    "dados_df['pipeline_const_jobs'].describe()"
   ]
  },
  {
   "cell_type": "code",
   "execution_count": null,
   "metadata": {},
   "outputs": [],
   "source": [
    "#Gerando um dataframe com dados filtrados no intervalo de 229 a 10000\n",
    "dados_df1 = dados_df.query('300 < pipeline_const_jobs > 1000')"
   ]
  },
  {
   "cell_type": "code",
   "execution_count": null,
   "metadata": {},
   "outputs": [],
   "source": [
    "dados_df1['pipeline_const_jobs'].describe()"
   ]
  },
  {
   "cell_type": "code",
   "execution_count": null,
   "metadata": {},
   "outputs": [],
   "source": [
    "dados_df2 = dados_df1.query('pipeline_const_jobs > 1796')\n",
    "dados_df2.head()"
   ]
  },
  {
   "cell_type": "code",
   "execution_count": null,
   "metadata": {},
   "outputs": [],
   "source": [
    "#Shape retorna o numero de linhas e colunas\n",
    "dados_df.shape"
   ]
  },
  {
   "cell_type": "code",
   "execution_count": null,
   "metadata": {},
   "outputs": [],
   "source": [
    "#Aplicando um filtro com metodo isin ele verifica se um ou mais valores estão presentes na coluna\n",
    "dados_df[dados_df['Month'].isin([1, 10, 9])]#.shape"
   ]
  },
  {
   "cell_type": "code",
   "execution_count": null,
   "metadata": {},
   "outputs": [],
   "source": [
    "dados_df[dados_df['Month'].isin([1, 10, 9])][:10]"
   ]
  },
  {
   "cell_type": "code",
   "execution_count": null,
   "metadata": {},
   "outputs": [],
   "source": [
    "#Filtrandos valores da coluna com operadores logicos\n",
    "#dados_df[(dados_df.coluna == 'valor da coluna') & (dados_df.coluna == 'valor da coluna')].head()tras os primeiros registros AND\n",
    "#dados_df[(dados_df.coluna == 'valor da coluna') | (dados_df.coluna == 'valor da coluna')].tail()tras os ultimos resultados OR\n",
    "#dados_df[(dados_df.coluna == 'valor da coluna') & (dados_df.coluna != 'valor da coluna') & (dados_df.coluna != 'valor da coluna')].simple()tras os dados forma aletoria AND\n",
    "#dados_df[(dados_df.coluna != 'valor da coluna') | (dados_df.coluna != 'valor da coluna') | (dados_df.coluna == 'valor da coluna')] OR"
   ]
  },
  {
   "cell_type": "code",
   "execution_count": null,
   "metadata": {},
   "outputs": [],
   "source": [
    "#Agrupando dados com groupby\n",
    "#Fitrando dados de 3 colunas e agrupando pela coluna Month e depois calculando a média\n",
    "dados_df[['Month', 'pipeline_const_jobs','logan_intl_flights' ]].groupby('Month').mean()"
   ]
  }
 ],
 "metadata": {
  "kernelspec": {
   "display_name": "base",
   "language": "python",
   "name": "python3"
  },
  "language_info": {
   "codemirror_mode": {
    "name": "ipython",
    "version": 3
   },
   "file_extension": ".py",
   "mimetype": "text/x-python",
   "name": "python",
   "nbconvert_exporter": "python",
   "pygments_lexer": "ipython3",
   "version": "3.12.4"
  }
 },
 "nbformat": 4,
 "nbformat_minor": 2
}
