{
 "cells": [
  {
   "cell_type": "code",
   "execution_count": null,
   "metadata": {},
   "outputs": [],
   "source": [
    "\n",
    "dados ={'Estado': ['São Paulo', 'Minas Gerais', 'Rio de Janeiro', 'Bahia', 'Paraná', 'Rio Grande do Sul', 'Pernambuco', 'Ceará', 'Pará', 'Santa Catarina'],\n",
    "        'Ano': [2004, 2005, 2006, 2007, 2008, 2009, 2010, 2011, 2012, 2013],\n",
    "        'Taxa Desemprego' : [1.5, 1.7, 1.6, 2.4, 2.7, 2.9, 3.0, 3.1, 3.2, 3.3]}"
   ]
  },
  {
   "cell_type": "code",
   "execution_count": null,
   "metadata": {},
   "outputs": [],
   "source": [
    "# Importando a fucao DataFrame da biblioteca pandas\n",
    "from pandas import DataFrame"
   ]
  },
  {
   "cell_type": "code",
   "execution_count": null,
   "metadata": {},
   "outputs": [],
   "source": [
    "# corrigindo o dicionário para que todas as listas tenham o mesmo comprimento\n",
    "dados = {\n",
    "\t'Estado': ['São Paulo', 'Minas Gerais', 'Rio de Janeiro', 'Bahia', 'Paraná', 'Rio Grande do Sul', 'Pernambuco', 'Ceará', 'Pará', 'Santa Catarina'],\n",
    "\t'Ano': [2004, 2005, 2006, 2007, 2008, 2009, 2010, 2011, 2012, 2013],\n",
    "\t'Taxa Desemprego': [1.5, 1.7, 1.6, 2.4, 2.7, 2.9, 3.0, 3.1, 3.2, 3.3]\n",
    "}\n",
    "\n",
    "# convertendo o dicionário em um DataFrame\n",
    "df = DataFrame(dados)"
   ]
  },
  {
   "cell_type": "code",
   "execution_count": null,
   "metadata": {},
   "outputs": [],
   "source": [
    "#visualizando as 5 primeiras linhas do DataFrame\n",
    "df.head()"
   ]
  },
  {
   "cell_type": "code",
   "execution_count": null,
   "metadata": {},
   "outputs": [],
   "source": [
    "#Reordenando as colunas\n",
    "DataFrame(dados, columns=[ 'Estado', 'Taxa Desemprego','Ano'])"
   ]
  },
  {
   "cell_type": "code",
   "execution_count": 10,
   "metadata": {},
   "outputs": [],
   "source": [
    "#criando outro DataFrame com uma nova coluna e um novo índice mantendo o DataFrame original inalterado\n",
    "df2 = DataFrame(dados, columns=['Estado', 'Taxa Desemprego', 'Taxa de Crescimento', 'Ano'],\n",
    "                index=['Estado1', 'Estado2', 'Estado3', 'Estado4', 'Estado5', 'Estado6', 'Estado7', 'Estado8', 'Estado9', 'Estado10'])"
   ]
  },
  {
   "cell_type": "code",
   "execution_count": null,
   "metadata": {},
   "outputs": [],
   "source": [
    "df2"
   ]
  }
 ],
 "metadata": {
  "kernelspec": {
   "display_name": "base",
   "language": "python",
   "name": "python3"
  },
  "language_info": {
   "codemirror_mode": {
    "name": "ipython",
    "version": 3
   },
   "file_extension": ".py",
   "mimetype": "text/x-python",
   "name": "python",
   "nbconvert_exporter": "python",
   "pygments_lexer": "ipython3",
   "version": "3.12.4"
  }
 },
 "nbformat": 4,
 "nbformat_minor": 2
}
