{
 "cells": [
  {
   "cell_type": "code",
   "execution_count": null,
   "metadata": {},
   "outputs": [],
   "source": [
    "#importando bibliotecas\n",
    "import random\n",
    "import numpy as np\n",
    "import pandas as pd\n",
    "import matplotlib as mat\n",
    "import matplotlib.pyplot as plt\n",
    "import seaborn as sea\n",
    "import warnings\n",
    "warnings.filterwarnings(\"ignore\")\n",
    "%matplotlib inline"
   ]
  },
  {
   "cell_type": "code",
   "execution_count": null,
   "metadata": {},
   "outputs": [],
   "source": [
    "#valores aletorios\n",
    "np.random.seed(42)\n",
    "n = 1000\n",
    "pct_smokers = 0.2\n",
    "\n",
    "#Variaveis\n",
    "flag_fumante = np.random.rand(n) < pct_smokers\n",
    "idade = np.random.normal(40, 10, n)\n",
    "peso = np.random.normal(70, 10, n)\n",
    "altura = np.random.normal(170, 10, n)\n",
    "\n",
    "#Criando DataFrame\n",
    "dados = pd.DataFrame({\n",
    "    'idade': idade,\n",
    "    'peso': peso,\n",
    "    'altura': altura,\n",
    "    'fumantes': flag_fumante\n",
    "})\n",
    "\n",
    "#cria os dados para a variavel fumante\n",
    "dados['fumantes'] = dados['fumantes'].map({True: 'Fumante', False: 'Nao Fumante'})"
   ]
  },
  {
   "cell_type": "code",
   "execution_count": null,
   "metadata": {},
   "outputs": [],
   "source": [
    "dados.shape"
   ]
  },
  {
   "cell_type": "code",
   "execution_count": null,
   "metadata": {},
   "outputs": [],
   "source": [
    "dados.head()"
   ]
  },
  {
   "cell_type": "code",
   "execution_count": null,
   "metadata": {},
   "outputs": [],
   "source": [
    "#style\n",
    "sea.set(style=\"ticks\")\n",
    "\n",
    "# Define a resolução da figura\n",
    "plt.figure(dpi=300)\n",
    "# lmplot\n",
    "sea.lmplot(\n",
    "    x='altura',\n",
    "    y='peso',\n",
    "    data=dados,\n",
    "    hue='fumantes',\n",
    "    palette=['tab:blue', 'tab:orange'],\n",
    "    height=6\n",
    ")\n",
    "# labels e títulos\n",
    "plt.title('Relacao Altura x Peso por Fumante/Nao Fumante')\n",
    "plt.xlabel('Altura (cm)')\n",
    "plt.ylabel('Peso (kg)')\n",
    "\n",
    "# remove as bordas\n",
    "sea.despine()\n",
    "\n",
    "# show\n",
    "plt.show()"
   ]
  }
 ],
 "metadata": {
  "kernelspec": {
   "display_name": "base",
   "language": "python",
   "name": "python3"
  },
  "language_info": {
   "codemirror_mode": {
    "name": "ipython",
    "version": 3
   },
   "file_extension": ".py",
   "mimetype": "text/x-python",
   "name": "python",
   "nbconvert_exporter": "python",
   "pygments_lexer": "ipython3",
   "version": "3.12.4"
  }
 },
 "nbformat": 4,
 "nbformat_minor": 2
}
