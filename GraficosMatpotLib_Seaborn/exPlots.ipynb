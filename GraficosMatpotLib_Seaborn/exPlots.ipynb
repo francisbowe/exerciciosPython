{
 "cells": [
  {
   "cell_type": "code",
   "execution_count": null,
   "metadata": {},
   "outputs": [],
   "source": [
    "import matplotlib as mpl\n",
    "import matplotlib.pyplot as plt #o pyplot é uma colecao de funcoes e estilo o que faz os graficos\n",
    "%matplotlib inline\n",
    "#comando para mostrar o grafico no jupyter"
   ]
  },
  {
   "cell_type": "code",
   "execution_count": null,
   "metadata": {},
   "outputs": [],
   "source": [
    "#o metodo Plot () define os eixos do gráfico\n",
    "plt.plot([1, 2, 3, 4], [1, 4, 9, 16])\n",
    "plt.show()"
   ]
  },
  {
   "cell_type": "code",
   "execution_count": null,
   "metadata": {},
   "outputs": [],
   "source": [
    "x = [1, 2, 3, 4]\n",
    "y = [3,5,7,9]"
   ]
  },
  {
   "cell_type": "code",
   "execution_count": null,
   "metadata": {},
   "outputs": [],
   "source": [
    "#criando um grafico com titulo e legenda e os atributos x e y\n",
    "plt.plot(x, y)\n",
    "plt.xlabel('Eixo X')\n",
    "plt.ylabel('Eixo Y')\n",
    "plt.title('Meu primeiro gráfico')\n",
    "plt.show()"
   ]
  },
  {
   "cell_type": "code",
   "execution_count": null,
   "metadata": {},
   "outputs": [],
   "source": [
    "'''criando Grafico de Barras, usado para representar dados categoricos com barras retangulares\n",
    "Cada barra representa uma categoria e a altura da barra é proporcional ao valor que ela representa\n",
    "Muitos usado para comparar valores entre categorias quantidade ou frenquencia\n",
    "'''\n",
    "x1 = [2, 4, 6, 8, 10]\n",
    "y1 = [6, 7, 8, 2, 4]\n",
    "x2 = [1, 3, 5, 7, 9]\n",
    "y2 = [7, 8, 2, 4, 2]"
   ]
  },
  {
   "cell_type": "code",
   "execution_count": null,
   "metadata": {},
   "outputs": [],
   "source": [
    "plt.bar(x1, y1, label = 'Barras', color = 'r')\n",
    "plt.bar(x2, y2, label = 'Barras2', color = 'y')\n",
    "plt.legend()\n",
    "plt.show()"
   ]
  },
  {
   "cell_type": "code",
   "execution_count": null,
   "metadata": {},
   "outputs": [],
   "source": [
    "#lista de idades\n",
    "idades = [22, 65, 45, 55, 21, 22, 34, 42, 41, 4, 99, 101, 120, 122, 130, 111, 115, 80, 75, 54, 44, 64, 13, 18, 48]\n",
    "#lista de intervalos de idades\n",
    "ids = [x for x in range(len(idades))]\n",
    "#criando um grafico de barras\n",
    "plt.bar(ids, idades)\n",
    "plt.show()"
   ]
  },
  {
   "cell_type": "code",
   "execution_count": null,
   "metadata": {},
   "outputs": [],
   "source": [
    "#crinado lista bins\n",
    "bins = [0, 10, 20, 30, 40, 50, 60, 70, 80, 90, 100, 110, 120, 130]\n",
    "#criando um histograma\n",
    "plt.hist(idades, bins, histtype = 'bar', rwidth = 0.8)\n",
    "plt.show()"
   ]
  },
  {
   "cell_type": "code",
   "execution_count": null,
   "metadata": {},
   "outputs": [],
   "source": [
    "#criando um grafico de dispersao\n",
    "'''\n",
    "O grafico de dispersao é usado para comparar variaveis duas variaveis continuas\n",
    "Ele é usado para determinar se existe uma relação entre as variaveis\n",
    "'''\n",
    "x = [1, 2, 3, 4, 5, 6, 7, 8]\n",
    "y = [5, 2, 4, 2, 1, 4, 5, 2]\n",
    "plt.scatter(x, y, label = 'Pontos', color = 'r', marker = 'o', s = 100)\n",
    "plt.legend()\n",
    "plt.show()"
   ]
  }
 ],
 "metadata": {
  "kernelspec": {
   "display_name": "base",
   "language": "python",
   "name": "python3"
  },
  "language_info": {
   "codemirror_mode": {
    "name": "ipython",
    "version": 3
   },
   "file_extension": ".py",
   "mimetype": "text/x-python",
   "name": "python",
   "nbconvert_exporter": "python",
   "pygments_lexer": "ipython3",
   "version": "3.12.4"
  }
 },
 "nbformat": 4,
 "nbformat_minor": 2
}
