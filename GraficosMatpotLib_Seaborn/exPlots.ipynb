{
 "cells": [
  {
   "cell_type": "code",
   "execution_count": null,
   "metadata": {},
   "outputs": [],
   "source": [
    "import matplotlib as mpl\n",
    "import matplotlib.pyplot as plt #o pyplot é uma colecao de funcoes e estilo o que faz os graficos\n",
    "from pylab import * #importa todas as funcoes do modulo pylab usado para fazer graficos de linhas e de forma mais simples\n",
    "%matplotlib inline\n",
    "#comando para mostrar o grafico no jupyter"
   ]
  },
  {
   "cell_type": "code",
   "execution_count": null,
   "metadata": {},
   "outputs": [],
   "source": [
    "#o metodo Plot () define os eixos do gráfico\n",
    "plt.plot([1, 2, 3, 4], [1, 4, 9, 16])\n",
    "plt.show()"
   ]
  },
  {
   "cell_type": "code",
   "execution_count": null,
   "metadata": {},
   "outputs": [],
   "source": [
    "x = [1, 2, 3, 4]\n",
    "y = [3,5,7,9]"
   ]
  },
  {
   "cell_type": "code",
   "execution_count": null,
   "metadata": {},
   "outputs": [],
   "source": [
    "#criando um grafico com titulo e legenda e os atributos x e y\n",
    "plt.plot(x, y)\n",
    "plt.xlabel('Eixo X')\n",
    "plt.ylabel('Eixo Y')\n",
    "plt.title('Meu primeiro gráfico')\n",
    "plt.show()"
   ]
  },
  {
   "cell_type": "code",
   "execution_count": null,
   "metadata": {},
   "outputs": [],
   "source": [
    "'''criando Grafico de Barras, usado para representar dados categoricos com barras retangulares\n",
    "Cada barra representa uma categoria e a altura da barra é proporcional ao valor que ela representa\n",
    "Muitos usado para comparar valores entre categorias quantidade ou frenquencia\n",
    "'''\n",
    "x1 = [2, 4, 6, 8, 10]\n",
    "y1 = [6, 7, 8, 2, 4]\n",
    "x2 = [1, 3, 5, 7, 9]\n",
    "y2 = [7, 8, 2, 4, 2]"
   ]
  },
  {
   "cell_type": "code",
   "execution_count": null,
   "metadata": {},
   "outputs": [],
   "source": [
    "plt.bar(x1, y1, label = 'Barras', color = 'r')\n",
    "plt.bar(x2, y2, label = 'Barras2', color = 'y')\n",
    "plt.legend()\n",
    "plt.show()"
   ]
  },
  {
   "cell_type": "code",
   "execution_count": null,
   "metadata": {},
   "outputs": [],
   "source": [
    "#lista de idades\n",
    "idades = [22, 65, 45, 55, 21, 22, 34, 42, 41, 4, 99, 101, 120, 122, 130, 111, 115, 80, 75, 54, 44, 64, 13, 18, 48]\n",
    "#lista de intervalos de idades\n",
    "ids = [x for x in range(len(idades))]\n",
    "#criando um grafico de barras\n",
    "plt.bar(ids, idades)\n",
    "plt.show()"
   ]
  },
  {
   "cell_type": "code",
   "execution_count": null,
   "metadata": {},
   "outputs": [],
   "source": [
    "#crinado lista bins\n",
    "bins = [0, 10, 20, 30, 40, 50, 60, 70, 80, 90, 100, 110, 120, 130]\n",
    "#criando um histograma\n",
    "plt.hist(idades, bins, histtype = 'bar', rwidth = 0.8)\n",
    "plt.show()"
   ]
  },
  {
   "cell_type": "code",
   "execution_count": null,
   "metadata": {},
   "outputs": [],
   "source": [
    "#criando um grafico de dispersao\n",
    "'''\n",
    "O grafico de dispersao é usado para comparar variaveis duas variaveis continuas\n",
    "Ele é usado para determinar se existe uma relação entre as variaveis\n",
    "'''\n",
    "x = [1, 2, 3, 4, 5, 6, 7, 8]\n",
    "y = [5, 2, 4, 2, 1, 4, 5, 2]\n",
    "plt.scatter(x, y, label = 'Pontos', color = 'r', marker = 'o', s = 100)\n",
    "plt.legend()\n",
    "plt.show()"
   ]
  },
  {
   "cell_type": "code",
   "execution_count": null,
   "metadata": {},
   "outputs": [],
   "source": [
    "#Grafico de are empilhada\n",
    "'''\n",
    "O grafico de area empilhada é usado para representar dados em uma area empilhada\n",
    "usados para visualizar a nudanca de valores ao longo do tempo\n",
    "'''\n",
    "dias = [1, 2, 3, 4, 5]\n",
    "dormir = [7, 8, 6, 77, 7]\n",
    "comer = [2, 3, 4, 5, 3]\n",
    "trabalhar = [7, 8, 7, 2, 2]\n",
    "passear = [8, 5, 7, 8, 13]"
   ]
  },
  {
   "cell_type": "code",
   "execution_count": null,
   "metadata": {},
   "outputs": [],
   "source": [
    "#criando um grafico de area empilhada\n",
    "plt.stackplot(dias, dormir, comer, trabalhar, passear, colors = ['m', 'c', 'r', 'k'])\n",
    "plt.show()"
   ]
  },
  {
   "cell_type": "code",
   "execution_count": null,
   "metadata": {},
   "outputs": [],
   "source": [
    "#Criando um grafico de pizza, uma boa pratica é usar o grafico de pizza quando se tem no maximo 5 fatias\n",
    "'''\n",
    "O grafico de pizza é usado para representar a composicao de algo\n",
    "'''\n",
    "fatias = [7, 2, 2, 13]\n",
    "atividades = ['dormir', 'comer', 'trabalhar', 'passear']\n",
    "colunas = ['c', 'm', 'r', 'k']"
   ]
  },
  {
   "cell_type": "code",
   "execution_count": null,
   "metadata": {},
   "outputs": [],
   "source": [
    "#criando um grafico de pizza\n",
    "plt.pie(fatias, labels = atividades, colors = colunas, startangle = 90, shadow = True, explode = (0, 0.1, 0, 0))\n",
    "plt.show()"
   ]
  },
  {
   "cell_type": "code",
   "execution_count": null,
   "metadata": {},
   "outputs": [],
   "source": [
    "#Criando grafico costuminizado com PyLab\n",
    "'''\n",
    "O PyLab é uma interface que combina funcionalidades do pyplot e numpy fornecendo\n",
    "um abmiente facil de usar para a criação de graficos e visualização de dados\n",
    "'''\n",
    "\n",
    "#Grafico em linha\n",
    "'''\n",
    "Grafico em linha é usado para representar dados continuos em diferentes intervalos de tempo\n",
    "sao uteis para mostrar tendencias e padrões nos dados continuos\n",
    "'''"
   ]
  },
  {
   "cell_type": "code",
   "execution_count": 24,
   "metadata": {},
   "outputs": [
    {
     "data": {
      "text/plain": [
       "Text(0.5, 1.0, 'Grafico de Linha')"
      ]
     },
     "execution_count": 24,
     "metadata": {},
     "output_type": "execute_result"
    },
    {
     "data": {
      "image/png": "[encoded data removed]",
      "text/plain": [
       "<Figure size 640x480 with 1 Axes>"
      ]
     },
     "metadata": {},
     "output_type": "display_data"
    }
   ],
   "source": [
    "x = linspace(0, 5, 10)\n",
    "y = x ** 2\n",
    "#cria a figura\n",
    "fig = plt.figure()\n",
    "#definindo a escala dos eixos\n",
    "axes = fig.add_axes([0.1, 0.1, 0.8, 0.8])\n",
    "#cria o plot\n",
    "axes.plot(x, y, 'r')\n",
    "axes.set_xlabel('x')\n",
    "axes.set_ylabel('y')\n",
    "axes.set_title('Grafico de Linha')"
   ]
  },
  {
   "cell_type": "code",
   "execution_count": null,
   "metadata": {},
   "outputs": [
    {
     "data": {
      "text/plain": [
       "Text(0.5, 1.0, 'Figura Secundaria')"
      ]
     },
     "execution_count": 25,
     "metadata": {},
     "output_type": "execute_result"
    },
    {
     "data": {
      "image/png": "[encoded data removed]",
      "text/plain": [
       "<Figure size 640x480 with 2 Axes>"
      ]
     },
     "metadata": {},
     "output_type": "display_data"
    }
   ],
   "source": [
    "#criando grafico com duas figuras\n",
    "x4 = linspace(0, 5, 10)\n",
    "y4 = x4 ** 2\n",
    "#cria a figura\n",
    "fig = plt.figure()\n",
    "#definindo a escala dos eixos\n",
    "axes1 = fig.add_axes([0.1, 0.1, 0.8, 0.8]) #eixos principal\n",
    "axes2 = fig.add_axes([0.2, 0.5, 0.4, 0.3]) #eixos secundario\n",
    "#cria o plot\n",
    "#figura principal\n",
    "axes.plot(x4, y4, 'r')\n",
    "axes.set_xlabel('x')\n",
    "axes.set_ylabel('y')\n",
    "axes.set_title('Figura Principal')\n",
    "#figura secundaria\n",
    "axes2.plot(y4, x4, 'g')\n",
    "axes2.set_xlabel('y')\n",
    "axes2.set_ylabel('x')\n",
    "axes2.set_title('Figura Secundaria')"
   ]
  }
 ],
 "metadata": {
  "kernelspec": {
   "display_name": "base",
   "language": "python",
   "name": "python3"
  },
  "language_info": {
   "codemirror_mode": {
    "name": "ipython",
    "version": 3
   },
   "file_extension": ".py",
   "mimetype": "text/x-python",
   "name": "python",
   "nbconvert_exporter": "python",
   "pygments_lexer": "ipython3",
   "version": "3.12.4"
  }
 },
 "nbformat": 4,
 "nbformat_minor": 2
}
